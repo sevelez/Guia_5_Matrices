{
 "cells": [
  {
   "cell_type": "markdown",
   "metadata": {
    "id": "AHPLM97ONSwR"
   },
   "source": [
    "Las matrices A y B representan las ventas en dos años, en millones de dólares, de los tres productos de una empresa en las cuatro regiones en que está disponible. Es decir, a_{ij} y b_{ij} representan el monto de las ventas del producto i en la región j el primer y segundo año, respectivamente:\n",
    "\n",
    "<br>\n",
    "\n",
    "\\begin{split}\n",
    "A = \\begin{pmatrix}\n",
    " 2,6 &  4,8 &  1,8 & 0,9 \\\\\n",
    " 3,2 &  4,4 &  2,5 & 2,8 \\\\\n",
    " 2,4 &  3,6 &  3,8 & 2,5 \\\\\n",
    "\\end{pmatrix} \\text{ } B= \\begin{pmatrix}\n",
    " 3,6 &  2,5 &  3,0 & 2,5 \\\\\n",
    " 4,5 &  5,0 &  3,5 & 3,8 \\\\\n",
    " 2,9 &  3,0 &  4,6 & 4,0 \\\\\n",
    "\\end{pmatrix}\n",
    "\\end{split}\n",
    "\n",
    "<br>\n",
    "\n",
    "1. Indique el orden de cada matriz.\n",
    "2. Calcule la matriz S = A + B.\n",
    "3. Calcule la matriz D = B - A.\n",
    "4. Indique el valor e interprete los elementos s_{24} y d_{24}.\n",
    "5. Para el tercer año de funcionamiento, los tres productos ahora están disponibles en seis regiones. Durante este año, las ventas de esta empresa estarán registradas en una matriz E. ¿Es posible determinar la matriz T = A + B + E? Justifique su respuesta."
   ]
  },
  {
   "cell_type": "code",
   "execution_count": null,
   "metadata": {},
   "outputs": [
    {
     "name": "stdout",
     "output_type": "stream",
     "text": [
      "2°)\n",
      " [[6.2 7.3 4.8 3.4]\n",
      " [7.7 9.4 6.  6.6]\n",
      " [5.3 6.6 8.4 6.5]]\n",
      "\n",
      "3°)\n",
      " [[ 1.  -2.3  1.2  1.6]\n",
      " [ 1.3  0.6  1.   1. ]\n",
      " [ 0.5 -0.6  0.8  1.5]]\n",
      "\n",
      "4°)\n",
      "Para la matriz S:\n",
      "   El producto 2 en la región 4 se vendió 6.6 millones de dólares en un lapso de 2 años\n",
      "Para la matriz D:\n",
      "  La diferencia entre ambos años indica que en el segundo año el producto 2 en la region 4 aumentó 1 millón en ventas\n",
      "5°)\n",
      "    No se puede, puesto que para sumar todas las matrices deben tener el mismo orden y la matriz E es de orden 3*6\n"
     ]
    }
   ],
   "source": [
    "import numpy as np \n",
    "A=np.array([[2.6,4.8,1.8,0.9],\n",
    "            [3.2,4.4,2.5,2.8],\n",
    "            [2.4,3.6,3.8,2.5]])\n",
    "\n",
    "B=np.array([[3.6,2.5,3.0,2.5],\n",
    "            [4.5,5.0,3.5,3.8],\n",
    "            [2.9,3.0,4.6,4.0]])\n",
    "\n",
    "S=A+B\n",
    "D=B-A\n",
    "print(\"1°)\\n    Cada matriz es de orden: 3*4\")\n",
    "print(\"2°)\\n\",S)\n",
    "print(\"\\n3°)\\n\",D)\n",
    "print(\"\\n4°)\\nPara la matriz S:\\n   El producto 2 en la región 4 se vendió 6.6 millones de dólares en un lapso de 2 años\")\n",
    "print(\"Para la matriz D:\\n  La diferencia entre ambos años indica que en el segundo año el producto 2 en la region 4 aumentó 1 millón en ventas\")\n",
    "print(\"5°)\\n    No se puede, puesto que para sumar todas las matrices deben tener el mismo orden y la matriz E es de orden 3*6\")"
   ]
  },
  {
   "cell_type": "markdown",
   "metadata": {
    "id": "MdVDj7xheCLm"
   },
   "source": [
    "# Problema 2"
   ]
  },
  {
   "cell_type": "markdown",
   "metadata": {
    "id": "CGrP79UpeM6k"
   },
   "source": [
    "Una fábrica con sucursales en Japón y China, produce tres tipos de componentes $j$, para cinco modelos de computador $i$. Los costos de producción mensual, en miles de dólares, de ambas sucursales se representan en las matrices $J$ y $C$, respectivamente:\n",
    "\n",
    "<br>\n",
    "\n",
    "\\begin{split}\n",
    "J = \\begin{pmatrix}\n",
    " 100 &  200 &  150  \\\\\n",
    " 120 &  210 &  170  \\\\\n",
    " 112 &  200 &  131  \\\\\n",
    " 124 &  310 &  170  \\\\\n",
    " 136 &  156 &  140  \\\\\n",
    "\\end{pmatrix} \\text{ } C = \\begin{pmatrix}\n",
    " 110 &  190 &  160  \\\\\n",
    " 130 &  220 &  180  \\\\\n",
    " 146 &  190 &  141  \\\\\n",
    " 143 &  312 &  163  \\\\\n",
    " 137 &  116 &  156  \\\\\n",
    "\\end{pmatrix}\n",
    "\\end{split}\n",
    "\n",
    "<br>\n",
    "\n",
    "1. ¿Cuál es el orden de las matrices?\n",
    "2. Inteprete el elemento $j_{21}$ y $c_{12}$ en el contexto del problema.\n",
    "3. Utilizando *Python*, calcule el costo total de producción para cada modelo, considerando ambas sucursales.\n",
    "4. Un trabajador indica que, en la sucursal japonesa, el costo de producción del producto $3$, modelo $4$ de computador, es más alto que en la sucursal china. ¿Tiene razón? Justifique apropiadamente."
   ]
  },
  {
   "cell_type": "code",
   "execution_count": 11,
   "metadata": {},
   "outputs": [
    {
     "name": "stdout",
     "output_type": "stream",
     "text": [
      "1°) La matriz J y C son de orden: 5 * 3 \n",
      "\n",
      "2°) Para Japón:\n",
      "  El primer componente del segundo modelo cuesta 120 mil dólares en fabricarse\n",
      "  Mientras que para China:\n",
      "  El segundo componente del primer modelo tiene un costo de 190 mil dólares mensuales\n",
      "\n",
      "3°) Suma de J y C:        \n",
      " [[210 390 310]\n",
      " [250 430 350]\n",
      " [258 390 272]\n",
      " [267 622 333]\n",
      " [273 272 296]]\n",
      "\n",
      "4°) Sí, tiene razón el empleado:\n",
      "Esto se debe a que en el contexto del problema se representan los modelos * componente, en este caso son de orden 5*3\n",
      "Entendiendo el contexto y orden sabemos que la pregunta corresponde a la fila 4 y columna 3 en cada matriz, cuyos valores son: \n",
      "Japón: 170 mil y China: 163 mil\n",
      "Comprobando que es correcta la afirmación del trabajador \n"
     ]
    }
   ],
   "source": [
    "import numpy as np \n",
    "print(f\"1°) La matriz J y C son de orden: 5 * 3 \\n\")\n",
    "print(\"2°) Para Japón:\\n  El primer componente del segundo modelo cuesta 120 mil dólares en fabricarse\\n  Mientras que para China:\\n  El segundo componente del primer modelo tiene un costo de 190 mil dólares mensuales\")\n",
    "\n",
    "\n",
    "\n",
    "# Definir las matrices J y C\n",
    "J = np.array([\n",
    "    [100, 200, 150],\n",
    "    [120, 210, 170],\n",
    "    [112, 200, 131],\n",
    "    [124, 310, 170],\n",
    "    [136, 156, 140]\n",
    "])\n",
    "\n",
    "C = np.array([\n",
    "    [110, 190, 160],\n",
    "    [130, 220, 180],\n",
    "    [146, 190, 141],\n",
    "    [143, 312, 163],\n",
    "    [137, 116, 156]\n",
    "])\n",
    "\n",
    "# Sumar matrices\n",
    "S = J + C\n",
    "print(\"\\n3°) Suma de J y C:        \\n\",S)\n",
    "print(\"\\n4°) Sí, tiene razón el empleado:\\nEsto se debe a que en el contexto del problema se representan los modelos * componente, en este caso son de orden 5*3\")\n",
    "print(\"Entendiendo el contexto y orden sabemos que la pregunta corresponde a la fila 4 y columna 3 en cada matriz, cuyos valores son: \")\n",
    "print(f\"Japón: {J[3][2]} mil y China: {C[3][2]} mil\\nComprobando que es correcta la afirmación del trabajador \")\n",
    "\n",
    "\n"
   ]
  },
  {
   "cell_type": "markdown",
   "metadata": {
    "id": "d1kLjxmU8En9"
   },
   "source": [
    "# Problema 3"
   ]
  },
  {
   "cell_type": "markdown",
   "metadata": {
    "id": "kpido2Zy8zg0"
   },
   "source": [
    "La empresa Beta tiene cinco plantas en Chile, y en cada una de ellas fabrica siete productos. El número de unidades del producto $i$ fabricadas en la planta $j$ en una semana está representado en la matriz $C$ en el elemento $c_{ij}$.\n",
    "\n",
    "<br>\n",
    "\n",
    "\\begin{split}\n",
    "C = \\begin{pmatrix}\n",
    " 120 &  200 &  155 &  125  &  230 \\\\\n",
    " 155 &  130 &  110 &  160  &  180 \\\\\n",
    " 140 &  205 &  150 &  125  &  155 \\\\\n",
    " 130 &  120 &  230 &  225  &  125 \\\\\n",
    " 135 &  70  &  190 &  175  &  95  \\\\\n",
    " 110 &  265 &  180 &  230  &  180 \\\\\n",
    " 185 &  85  &  120 &  135  &  150 \\\\\n",
    "\\end{pmatrix}\n",
    "\\end{split}\n",
    "\n",
    "<br>\n",
    "\n",
    "La empresa se expande, creando cinco plantas en Ecuador que producen los mismos siete productos. La producción semanal de esta filial estará representada por una matriz $E$.\n",
    "\n",
    "1. Si se sabe que los volúmenes de producción semanal de la filial en Ecuador son un $20\\%$ menor que en Chile, calcule la matriz $E$ utilizando *Python*.\n",
    "2. Si representamos la producción semanal total de la empresa Beta, considerando ambas filiales, por la matriz $T$, escriba la expresión que calcula cada elemento de la matriz $T$ usando notación matricial.\n",
    "3. Calcule la matriz $T$ utilizando *Python*.\n",
    "4. Interprete los elementos $c_{34}$ y $t_{72}$ en el contexto del problema."
   ]
  },
  {
   "cell_type": "markdown",
   "metadata": {
    "id": "DZh7JytTJKsb"
   },
   "source": [
    "# Problema 4"
   ]
  },
  {
   "cell_type": "markdown",
   "metadata": {
    "id": "biNp7JeIJU2I"
   },
   "source": [
    "Una empresa que fabrica zapatos tiene dos plantas, una en Valparaíso y la otra en Temuco. La empresa produce zapatos de color negro, blanco y café, tanto para niños, damas como caballeros. La capacidad actual de producción mensual (en miles de pares) para Valparaíso y Temuco, están dadas por las matrices $V$ y $T$, respectivamente. Para ambas matrices, según el orden en que se mencionan, las filas corresponden al color del calzado y las columnas al tipo de persona que utilizará el calzado.\n",
    "\n",
    "<br>\n",
    "\n",
    "\\begin{split}\n",
    "V = \\begin{pmatrix}\n",
    " 30 &  34 &  20  \\\\\n",
    " 45 &  20 &  16  \\\\\n",
    " 14 &  26 &  25  \\\\\n",
    "\\end{pmatrix} \\text{ } T = \\begin{pmatrix}\n",
    " 35 &  30 &  26  \\\\\n",
    " 52 &  25 &  18  \\\\\n",
    " 23 &  24 &  32  \\\\\n",
    "\\end{pmatrix}\n",
    "\\end{split}\n",
    "\n",
    "<br>\n",
    "\n",
    "1. Determine la producción mensual total de ambas plantas, representándola en una matriz $A$. Utilice *Python* para resolver.\n",
    "2. Interprete el elemento $a_{21}$ en el contexto del problema.\n",
    "3. Si para el próximo año se estima que la producción en Valparaíso aumenta en un $30\\%$, mientras que la de Temuco se reduce en un $10\\%$, represente la nueva producción total en la matriz $B$.\n",
    "4. Interprete el elemento $b_{13}$ en el contexto del problema."
   ]
  },
  {
   "cell_type": "markdown",
   "metadata": {
    "id": "eqY0UgBhQ1PL"
   },
   "source": [
    "# Problema 5"
   ]
  },
  {
   "cell_type": "markdown",
   "metadata": {
    "id": "6W2fcVlyU2Ze"
   },
   "source": [
    "Genere una matriz $M$ de orden $8 \\times 9$ donde cada término de la matriz está definido por:\n",
    "\n",
    "$$m_{ij} = 8i + 12j$$\n",
    "\n",
    "y calcule su transpuesta."
   ]
  },
  {
   "cell_type": "code",
   "execution_count": 2,
   "metadata": {},
   "outputs": [
    {
     "name": "stdout",
     "output_type": "stream",
     "text": [
      "La matriz M es:\n",
      "[[ 20.  32.  44.  56.  68.  80.  92. 104. 116.]\n",
      " [ 28.  40.  52.  64.  76.  88. 100. 112. 124.]\n",
      " [ 36.  48.  60.  72.  84.  96. 108. 120. 132.]\n",
      " [ 44.  56.  68.  80.  92. 104. 116. 128. 140.]\n",
      " [ 52.  64.  76.  88. 100. 112. 124. 136. 148.]\n",
      " [ 60.  72.  84.  96. 108. 120. 132. 144. 156.]\n",
      " [ 68.  80.  92. 104. 116. 128. 140. 152. 164.]\n",
      " [ 76.  88. 100. 112. 124. 136. 148. 160. 172.]]\n",
      " \n",
      "La matriz transpuesta de M es:\n",
      " [[ 20.  28.  36.  44.  52.  60.  68.  76.]\n",
      " [ 32.  40.  48.  56.  64.  72.  80.  88.]\n",
      " [ 44.  52.  60.  68.  76.  84.  92. 100.]\n",
      " [ 56.  64.  72.  80.  88.  96. 104. 112.]\n",
      " [ 68.  76.  84.  92. 100. 108. 116. 124.]\n",
      " [ 80.  88.  96. 104. 112. 120. 128. 136.]\n",
      " [ 92. 100. 108. 116. 124. 132. 140. 148.]\n",
      " [104. 112. 120. 128. 136. 144. 152. 160.]\n",
      " [116. 124. 132. 140. 148. 156. 164. 172.]]:  \n"
     ]
    }
   ],
   "source": [
    "import numpy as np \n",
    "M = np.fromfunction (lambda i,j: 8*(i+1)+12*(j+1), (8,9))\n",
    "M_T = M.T\n",
    "print(f\"La matriz M es:\\n{M}\\n \")\n",
    "print(f\"La matriz transpuesta de M es:\\n {M_T}:  \")\n",
    "\n"
   ]
  },
  {
   "cell_type": "markdown",
   "metadata": {
    "id": "GzG5888JV5Yc"
   },
   "source": [
    "# Problema 6"
   ]
  },
  {
   "cell_type": "markdown",
   "metadata": {
    "id": "dHbVKHuLV71S"
   },
   "source": [
    "Genere dos matrices:\n",
    "\n",
    "*   Una matriz $A$ de orden $5 \\times 7$, con $a_{ij} = i \\cdot j.$\n",
    "*   Una matriz $B$ de orden $7 \\times 5$, con $b_{ij} = 15i - 2j.$\n",
    "\n",
    "y calcule $C = A^{T} + \\dfrac{1}{2}B$.\n",
    "\n"
   ]
  },
  {
   "cell_type": "code",
   "execution_count": 14,
   "metadata": {},
   "outputs": [
    {
     "name": "stdout",
     "output_type": "stream",
     "text": [
      "Matriz A:\n",
      "[[ 1.  2.  3.  4.  5.  6.  7.]\n",
      " [ 2.  4.  6.  8. 10. 12. 14.]\n",
      " [ 3.  6.  9. 12. 15. 18. 21.]\n",
      " [ 4.  8. 12. 16. 20. 24. 28.]\n",
      " [ 5. 10. 15. 20. 25. 30. 35.]]\n",
      "\n",
      "Matriz B:\n",
      "[[ 13.  11.   9.   7.   5.]\n",
      " [ 28.  26.  24.  22.  20.]\n",
      " [ 43.  41.  39.  37.  35.]\n",
      " [ 58.  56.  54.  52.  50.]\n",
      " [ 73.  71.  69.  67.  65.]\n",
      " [ 88.  86.  84.  82.  80.]\n",
      " [103. 101.  99.  97.  95.]]\n",
      "\n",
      "Matriz C:\n",
      "[[ 7.5  7.5  7.5  7.5  7.5]\n",
      " [16.  17.  18.  19.  20. ]\n",
      " [24.5 26.5 28.5 30.5 32.5]\n",
      " [33.  36.  39.  42.  45. ]\n",
      " [41.5 45.5 49.5 53.5 57.5]\n",
      " [50.  55.  60.  65.  70. ]\n",
      " [58.5 64.5 70.5 76.5 82.5]]\n"
     ]
    }
   ],
   "source": [
    "import numpy as np \n",
    "A = np.fromfunction (lambda i,j: (i+1)*(j+1),(5,7))\n",
    "B = np.fromfunction(lambda i,j: 15*(i+1)-2*(j+1),(7,5))\n",
    "print(f\"Matriz A:\\n{A}\\n\")\n",
    "print(f\"Matriz B:\\n{B}\\n\")\n",
    "\n",
    "A_T=A.T\n",
    "BM=B/2\n",
    "C=A_T+BM\n",
    "print(f\"Matriz C:\\n{C}\")"
   ]
  },
  {
   "cell_type": "markdown",
   "metadata": {
    "id": "HZJfudDGXjic"
   },
   "source": [
    "# Problema 7"
   ]
  },
  {
   "cell_type": "markdown",
   "metadata": {
    "id": "Z-C9zGeKYQ11"
   },
   "source": [
    "Una red de sensores recoge datos de temperatura ($°C$), humedad (porcentaje) y presión (hPa) en cinco días distintos (de lunes a viernes). Los datos medidos se muestran en la matriz $D$:\n",
    "\n",
    "<br>\n",
    "\n",
    "\\begin{equation*}\n",
    "\\begin{matrix}\n",
    "& \\begin{matrix}\n",
    " & Lu  \\ \\ &Ma \\ \\ &Mi \\ \\ & Ju \\ \\ &Vi\n",
    "\\end{matrix} \\\\\n",
    "&D = \\begin{pmatrix}\n",
    "20    &  28    &  22    &  26     &  24   \\\\\n",
    "52    &  57    &  56    &  54     &  58   \\\\\n",
    "1.066 &  1.068 &  1.066 &  1.064  &  1.068 \\\\\n",
    "\\end{pmatrix} & \\ \\begin{matrix}\n",
    "Cº\\\\\n",
    "\\% \\\\\n",
    "hPa\n",
    "\\end{matrix}\\\\\n",
    "\\end{matrix}\n",
    "\\end{equation*}\n",
    "\n",
    "<br>\n",
    "\n",
    "Se sabe que por un error de calibración de los sensores, las medidas registradas deberían ser un $5\\%$ menores que las registradas.\n",
    "\n",
    "1. Calcule en una matriz $S$ los valores correctos de temperatura, humedad y presión. Utilice *Python* para calcular.\n",
    "2. Obtenga la matriz $S^{T}$.\n",
    "3. Interprete los elementos $s_{24}$ y $s_{31}^{T}$.\n"
   ]
  },
  {
   "cell_type": "markdown",
   "metadata": {
    "id": "9py029xQlSq6"
   },
   "source": [
    "# Problema 8"
   ]
  },
  {
   "cell_type": "markdown",
   "metadata": {
    "id": "icNvmShQmtrx"
   },
   "source": [
    "Una empresa tecnológica vende software y hardware en tres productos: $P_{1}$, $P_{2}$ y $P_{3}$, en cuatro zonas de la capital: norte, sur, este y oeste. Las ventas del mes, en millones de pesos, están registradas en las matrices $S$ y $H$, para software y hardware respectivamente.\n",
    "\n",
    "<br>\n",
    "\n",
    "\\begin{split}\n",
    "S = \\begin{pmatrix}\n",
    " 260 &  480 &  180  &  90  \\\\\n",
    " 320 &  440 &  250  &  280 \\\\\n",
    " 240 &  360 &  380  &  250  \\\\\n",
    "\\end{pmatrix} \\text{ } H = \\begin{pmatrix}\n",
    " 360 &  250 &  300  &  250  \\\\\n",
    " 450 &  500 &  350  &  380 \\\\\n",
    " 290 &  300 &  460  &  400  \\\\\n",
    "\\end{pmatrix}\n",
    "\\end{split}\n",
    "\n",
    "<br>\n",
    "\n",
    "1. Calcule en la matriz $T$, del total de ventas de la empresa tecnológica.\n",
    "2. Un trabajador indica que este mes, la sucursal de la zona sur recaudó más por la venta hardware que software, ¿es correcta su afirmación?\n",
    "3. Debido al black friday se espera que el siguiente mes, las ventas de software aumenten un $7\\%$ y las de hardware aumenten un $3\\%$ respecto al mes actual. Encuentra en total de ventas esperadas para el siguiente mes y almacénalo en la matriz $M$. Utiliza *Python* para realizar los cálculos.\n",
    "4. Interpreta los elementos $t_{24}$ y $m_{31}$ en el contexto del problema.\n",
    "5. Calcula la matriz $M^{T}$ e interpreta el elemento $m_{41}^{T}$ en el contexto del problema.\n"
   ]
  }
 ],
 "metadata": {
  "colab": {
   "provenance": [],
   "toc_visible": true
  },
  "kernelspec": {
   "display_name": "Python 3",
   "name": "python3"
  },
  "language_info": {
   "codemirror_mode": {
    "name": "ipython",
    "version": 3
   },
   "file_extension": ".py",
   "mimetype": "text/x-python",
   "name": "python",
   "nbconvert_exporter": "python",
   "pygments_lexer": "ipython3",
   "version": "3.11.4"
  }
 },
 "nbformat": 4,
 "nbformat_minor": 0
}
