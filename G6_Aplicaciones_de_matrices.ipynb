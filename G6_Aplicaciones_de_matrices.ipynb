{
 "cells": [
  {
   "cell_type": "markdown",
   "metadata": {
    "id": "UCCOMbmnLfHY"
   },
   "source": [
    "# Problema 1"
   ]
  },
  {
   "cell_type": "markdown",
   "metadata": {
    "id": "AHPLM97ONSwR"
   },
   "source": [
    "La fábrica de bicicletas Expend produce dos modelos de bicicletas, $M$ y $N$. La matriz $A$ nos indica las cantidades de acero y aluminio que requiere cada bicicleta, expresadas en kg según el modelo a producir, mientras que la matriz $B$ nos entrega un reporte de la cantidad de bicicletas producidas de ambos modelos para los dos primeros meses del año pasado.\n",
    "\n",
    "<br>\n",
    "\n",
    "\\begin{equation*}\n",
    "\\begin{matrix}\n",
    "& \\begin{matrix}\n",
    " & \\ \\ \\ \\  M & N\n",
    "\\end{matrix}  \\\\\n",
    "&A= \\begin{pmatrix}\n",
    "1 & 2 \\\\\n",
    "3 & 2 \\\\\n",
    "\\end{pmatrix} & \\ \\begin{matrix}\n",
    "Acero\\\\\n",
    "Aluminio\n",
    "\\end{matrix}\\\\\n",
    "\\end{matrix}\n",
    "\\ \\ \\ \\ \\ \\ \\ \\ \\ \\ \\ \\ \\ \\\n",
    "\\begin{matrix}\n",
    "& \\begin{matrix}\n",
    "& \\ \\ \\ \\ \\ \\ \\ ene & feb &\n",
    "\\end{matrix} & \\\\\n",
    "&B= \\begin{pmatrix}\n",
    "290 &  312 \\\\\n",
    " 345 &  413 \\\\\n",
    "\\end{pmatrix} & \\begin{matrix}\n",
    "M\\\\\n",
    "N\n",
    "\\end{matrix}\\\\\n",
    "\\end{matrix}\n",
    "\\end{equation*}\n",
    "\n",
    "<br>\n",
    "\n",
    "1. Indique el orden de cada matriz. ¿Es posible determinar la multiplicación entre ambas matrices? Justifique.\n",
    "2. Determine utilizando *Python* la matriz $C = A \\cdot B$\n",
    "3. Indique e interprete el valor de los elementos $c_{21}$ y $c_{11}$."
   ]
  },
  {
   "cell_type": "code",
   "execution_count": 14,
   "metadata": {},
   "outputs": [
    {
     "name": "stdout",
     "output_type": "stream",
     "text": [
      "1°)\n",
      "A: 2*2\n",
      "B: 2*2\n",
      "Sí se puede multiplicar puesto que la cantidad de columnas de A es igual a la cantidad de filas de B\n",
      "Además las filas de la matriz B corresponden las columnas de la matriz A dentro del contexto del problema\n",
      "\n",
      "2°)\n",
      " [[ 980 1138]\n",
      " [1560 1762]] \n",
      "\n",
      "\n",
      "3°)    'c' corresponde a materiales*meses\n",
      "c21 quiere decir que en enero se requirió 1560 kg de aluminio para el modelo N \n",
      "c11 quiere decir que en enero se requirió 980 kg de Acero para hacer bicicletas del modelo M\n"
     ]
    }
   ],
   "source": [
    "\n",
    "import numpy as  np \n",
    "A= np.array([\n",
    "    [1, 2],\n",
    "    [3, 2]])\n",
    "\n",
    "B= np.array([\n",
    "    [290, 312],\n",
    "    [345, 413]])\n",
    "C = np.dot(A, B)\n",
    "C=A@B\n",
    "print(\"1°)\\nA: 2*2\\nB: 2*2\\nSí se puede multiplicar puesto que la cantidad de columnas de A es igual a la cantidad de filas de B\")\n",
    "print(\"Además las filas de la matriz B corresponden las columnas de la matriz A dentro del contexto del problema\\n\")\n",
    "print(\"2°)\\n\",C,\"\\n\")\n",
    "print(\"\\n3°)    'c' corresponde a materiales*meses\\nc21 quiere decir que en enero se requirió 1560 kg de aluminio para el modelo N \")\n",
    "print(\"c11 quiere decir que en enero se requirió 980 kg de Acero para hacer bicicletas del modelo M\")"
   ]
  },
  {
   "cell_type": "markdown",
   "metadata": {
    "id": "-RrxIa0hnYzC"
   },
   "source": [
    "# Problema 2"
   ]
  },
  {
   "cell_type": "markdown",
   "metadata": {
    "id": "ZZrsGY3JnYzD"
   },
   "source": [
    "Una pequeña cadena tiene restaurantes de comida rápida en Santiago, Concepción y Antofagasta, en los que vende hamburguesas, completos y mateadas. En un fin de semana, las cantidades de cada comida según cada sucursal se distribuyeron de acuerdo con la siguiente matriz $V$, donde las filas corresponden a los productos y las columnas a las sucursales, mientras que los precios, en pesos, de cada producto están expresados en la matriz $P$.\n",
    "\n",
    "<br>\n",
    "\n",
    "\\begin{split}\n",
    "V &= \\begin{pmatrix}\n",
    " 1300 &  900  &  800  \\\\\n",
    " 2100 &  1700 &  1500 \\\\\n",
    " 1500 &  1200 &  900  \\\\\n",
    "\\end{pmatrix}\\\\\n",
    "\\\\\n",
    "P &= \\begin{pmatrix}\n",
    " 4200 &  1500 & 3200 \\\\\n",
    "\\end{pmatrix}\n",
    "\\end{split}\n",
    "\n",
    "<br>\n",
    "\n",
    "Si $I = P \\cdot V$\n",
    "\n",
    "1. Indique el orden de cada matriz.\n",
    "2. Determine utilizando *Python* la matriz $I$.\n",
    "3. Indique e interprete el valor de los elementos $v_{32}$, $p_{12}$ e $i_{13}$."
   ]
  },
  {
   "cell_type": "code",
   "execution_count": 20,
   "metadata": {},
   "outputs": [
    {
     "name": "stdout",
     "output_type": "stream",
     "text": [
      "1°)Los órdenes de matrices son:\n",
      "V -> 3*3\n",
      "P -> 1*3\n",
      "2°)\n",
      " [[13410000 10170000  8490000]]\n",
      "3°)\n",
      "     V32 quiere decir que en la sucursal de Concepción se vendieron 1200 completos \n",
      "     P12 quiere decir que el precio de los completos equivale a $1500 \n",
      "     I13 quiere decir que en la sucursal de Antofagasta se generó un total de $8.490.000\n"
     ]
    }
   ],
   "source": [
    "import numpy as np \n",
    "print(\"1°)Los órdenes de matrices son:\\nV -> 3*3\\nP -> 1*3\")\n",
    "\n",
    "V =np.array([\n",
    "    [1300, 900, 800],\n",
    "    [2100, 1700, 1500],\n",
    "    [1500, 1200, 900]\n",
    "])\n",
    "P= np.array([\n",
    "    [4200, 1500, 3200]\n",
    "])\n",
    "I = P@V\n",
    "print(\"2°)\\n\",I)\n",
    "print(\"3°)\\n     V32 quiere decir que en la sucursal de Concepción se vendieron 1200 completos \")\n",
    "print(\"     P12 quiere decir que el precio de los completos equivale a $1500 \")\n",
    "print(\"     I13 quiere decir que en la sucursal de Antofagasta se generó un total de $8.490.000\")\n",
    "\n"
   ]
  },
  {
   "cell_type": "markdown",
   "metadata": {
    "id": "alV0X-YntESs"
   },
   "source": [
    "# Problema 3"
   ]
  },
  {
   "cell_type": "markdown",
   "metadata": {
    "id": "zFKFesabtL6N"
   },
   "source": [
    "Una fábrica, para un mismo tipo de artículo eléctrico produce $2$ modelos, $A$ y $B$. Las filas de la matriz $M$, en el orden mencionado, nos muestran la cantidad de transistores y resistores que se requieren por cada artículo, según cada modelo. Por otra parte, las filas de la matriz $Q$ nos reportan las cantidades producidas de cada modelo para las tres primeras semanas del mes pasado.\n",
    "\n",
    "<br>\n",
    "\n",
    "\\begin{split}\n",
    "M = \\begin{pmatrix}\n",
    " 9 &  14 \\\\\n",
    " 4 &  5  \\\\\n",
    "\\end{pmatrix} \\ \\ \\ \\ \\ \\ \\ \\ Q = \\begin{pmatrix}\n",
    " 200 &  240 & 220 \\\\\n",
    " 175 &  210 & 215 \\\\\n",
    "\\end{pmatrix}\n",
    "\\end{split}\n",
    "\n",
    "<br>\n",
    "\n",
    "Además, considere las matrices $G = M \\cdot Q$ y $H = Q \\cdot M$.\n",
    "\n",
    "1. Indique el orden de $M$ y $Q$.\n",
    "2. ¿Es posible calcular las matrices $G$ y $H$? Justifique.\n",
    "3. Determine utilizando *Python* la matriz $G$ e interprete los elementos $g_{23}$  y $g_{12}$.\n",
    "4. ¿Cuántos resistores se utilizaron durante las tres semanas?"
   ]
  },
  {
   "cell_type": "code",
   "execution_count": 35,
   "metadata": {},
   "outputs": [
    {
     "name": "stdout",
     "output_type": "stream",
     "text": [
      "1°)  Los ordenes son:\n",
      "  M -> 2*2\n",
      "  Q -> 2*3\n",
      "\n",
      "2°)  \n",
      "  Si se puede ya que M corresponde a Modelos * Transitores y resistores\n",
      "  Mientras que Q corresponde T y R * Semanas\n",
      "\n",
      "[[4250 5100 4990]\n",
      " [1675 2010 1955]]\n",
      "\n",
      "3°)\n",
      "  G23 corresponde a que en la 3era semana se vendieron 1955 resistores\n",
      "  G12 corresponde a que en la segunda semana se vendieron 5100 transitores\n",
      "4°)\n",
      "   El total de transitores vendidos es: 5640\n"
     ]
    }
   ],
   "source": [
    "import numpy as np \n",
    "\n",
    "M= np.array([\n",
    "    [9, 14],\n",
    "    [4, 5]\n",
    "])\n",
    "Q = np.array ([\n",
    "    [200, 240, 220],\n",
    "    [175, 210,215]\n",
    "])\n",
    "print(\"1°)  Los ordenes son:\\n  M -> 2*2\\n  Q -> 2*3\\n\")\n",
    "print(\"2°)  \\n  Si se puede ya que M corresponde a Modelos * Transitores y resistores\\n  Mientras que Q corresponde T y R * Semanas\\n\")\n",
    "\n",
    "G=M@Q\n",
    "print(G)\n",
    "print(\"\\n3°)\\n  G23 corresponde a que en la 3era semana se vendieron 1955 resistores\")\n",
    "print(\"  G12 corresponde a que en la segunda semana se vendieron 5100 transitores\")\n",
    "suma=sum(G[1]) #Como solo son 2 filas, como indice se deja 1 ya que Python empieza a contar desde el 0 \n",
    "print(f\"4°)\\n   El total de transitores vendidos es: {suma} unidades\")\n"
   ]
  },
  {
   "cell_type": "markdown",
   "metadata": {
    "id": "rSgW5H3l0MGI"
   },
   "source": [
    "# Problema 4"
   ]
  },
  {
   "cell_type": "markdown",
   "metadata": {
    "id": "AtetJk0N5mKL"
   },
   "source": [
    "Una empresa de telecomunicaciones necesita optimizar la distribución de su infraestructura de red en Iquique, Santiago y Concepción. Las columnas de la matriz $R$, en el orden mencionado, representan la cantidad de routers y switches que se deben instalar en cada ciudad. La matriz $C$ muestra el costo de instalación, en pesos, de cada router y switch.\n",
    "\n",
    "<br>\n",
    "\n",
    "\\begin{split}\n",
    "R = \\begin{pmatrix}\n",
    " 50 &  70 \\\\\n",
    " 80 &  110  \\\\\n",
    " 60 &  90  \\\\\n",
    "\\end{pmatrix} \\ \\ \\ \\ \\ \\ C = \\begin{pmatrix}\n",
    " 80000 \\\\\n",
    " 45000 \\\\\n",
    "\\end{pmatrix}\n",
    "\\end{split}\n",
    "\n",
    "<br>\n",
    "\n",
    "1. Calcula utilizando *Python* el costo total de instalación para cada ciudad y almacénalo en la matriz $T$.\n",
    "2. ¿Cuál es la ciudad que tiene mayor costo de instalación?\n",
    "3. Si se aplica un descuento del $10\\%$ en el costo de instalación de los switches, calcula el nuevo costo total de instalación para cada ciudad."
   ]
  },
  {
   "cell_type": "code",
   "execution_count": 12,
   "metadata": {},
   "outputs": [
    {
     "name": "stdout",
     "output_type": "stream",
     "text": [
      "[[ 7150000]\n",
      " [11350000]\n",
      " [ 8850000]]\n",
      "\n",
      "2°)\n",
      "      Santiago es la ciudad con mayor costo de instalacion con: $[11350000] \n",
      "\n",
      "3°)\n",
      "      Los precios con un 10% de descuento son:    \n",
      " [[ 6435000.]\n",
      " [10215000.]\n",
      " [ 7965000.]]\n"
     ]
    }
   ],
   "source": [
    "import numpy as np\n",
    "N=np.array([\n",
    "    [50, 70],\n",
    "    [80, 110],\n",
    "    [60, 90]\n",
    "])\n",
    "\n",
    "C = np.array([\n",
    "    [80000],\n",
    "    [45000]\n",
    "])\n",
    "T = N@C\n",
    "\n",
    "print(T)\n",
    "print(f\"\\n2°)\\n      Santiago es la ciudad con mayor costo de instalacion con: ${T[1]} \")\n",
    "mult=T*0.9\n",
    "print(\"\\n3°)\\n      Los precios con un 10% de descuento son:    \\n\",mult)"
   ]
  },
  {
   "cell_type": "markdown",
   "metadata": {
    "id": "BApBYmuW1Gpj"
   },
   "source": [
    "# Problema 5"
   ]
  },
  {
   "cell_type": "markdown",
   "metadata": {
    "id": "ZLyggtwj1I58"
   },
   "source": [
    "Una empresa de servicios en la nube distribuye datos entre tres *Data Center*. La matriz $D$ muestra el volumen de datos (en terabytes) almacenados en cada *Data Center* durante los tres primeros meses del año. Mientras que la matriz $C$ muestra los costos (en dólares) de almacenamiento por terabyte en cada *Data Center*.\n",
    "\n",
    "<br>\n",
    "\n",
    "\\begin{equation*}\n",
    "\\begin{matrix}\n",
    "& \\begin{matrix}\n",
    "& \\ \\ \\ \\ \\ \\ \\ DC_{1} &   DC_{2} & DC_{3}&\n",
    "\\end{matrix} & \\\\\n",
    "&D = \\begin{pmatrix}\n",
    "100 & 150 & 200 \\\\\n",
    "120 & 180 & 220 \\\\\n",
    "140 & 210 & 250\n",
    "\\end{pmatrix} & \\begin{matrix}\n",
    "Ene\\\\\n",
    "Feb\\\\\n",
    "Mar\n",
    "\\end{matrix}\n",
    "\\end{matrix}\n",
    "\\ \\ \\ \\ \\ \\ \\ \\ \\ \\ \\ \\ \\ \\\n",
    "\\begin{matrix}\n",
    "& \\begin{matrix}\n",
    "\\   \n",
    "\\end{matrix} & \\\\\n",
    "&C = \\begin{pmatrix}\n",
    "50 \\\\\n",
    "40 \\\\\n",
    "30\n",
    "\\end{pmatrix}  \\begin{matrix}\n",
    "DC_{1}\\\\\n",
    "DC_{2}\\\\\n",
    "DC_{3}\n",
    "\\end{matrix}\\\\\n",
    "\\end{matrix}\n",
    "\\end{equation*}\n",
    "\n",
    "<br>\n",
    "\n",
    "1. Calcula utilizando *Python* la matriz $T = D \\cdot C$.\n",
    "2. Un trabajador indica que en febrero el costo por almacenamiento fue el más alto, ¿es cierta su afirmación?\n",
    "3. Debido a la inflación, el costo de almacenamiento por terabyte aumenta en un $2,3\\%$. Calcula el nuevo costo total de almacenamiento por mes e interprete cada uno de los elementos de la nueva matriz."
   ]
  },
  {
   "cell_type": "code",
   "execution_count": null,
   "metadata": {},
   "outputs": [
    {
     "name": "stdout",
     "output_type": "stream",
     "text": [
      "1°)\n",
      " [[17000]\n",
      " [19800]\n",
      " [22900]]\n",
      "2°)\n",
      "     El trabajador se equivoca, puesto que el segundo mes tuvo un costo de $19800 mientras que el 3ero tuvo un costo  de $22900\n",
      "3°)\n",
      "    Los nuevos costos considerando la inflación son:\n",
      "      [[17391. ]\n",
      " [20255.4]\n",
      " [23426.7]]\n"
     ]
    }
   ],
   "source": [
    "import numpy as np \n",
    "D=np.array([\n",
    "    [100, 150, 200],\n",
    "    [120, 180, 220],\n",
    "    [140, 210, 250]\n",
    "])\n",
    "C=np.array([\n",
    "    [50],\n",
    "    [40],\n",
    "    [30]\n",
    "])\n",
    "\n",
    "T=D@C\n",
    "print(\"1°)\\n\",T)\n",
    "print(\"2°)\\n     El trabajador se equivoca, puesto que el segundo mes tuvo un costo de $19800 mientras que el 3ero tuvo un costo  de $22900\")\n",
    "Inf= T *(102.3/100)\n",
    "print(\"3°)\\n    Los nuevos costos considerando la inflación son:\\n\",Inf)"
   ]
  },
  {
   "cell_type": "markdown",
   "metadata": {
    "id": "Jpe3sG3sHvmD"
   },
   "source": [
    "# Problema 6"
   ]
  },
  {
   "cell_type": "markdown",
   "metadata": {
    "id": "gE8Q3mwKHxhj"
   },
   "source": [
    "Una compañía que fabrica un determinado producto, tiene $4$ plantas de producción y $5$ bodegas de almacenamiento. La matriz $T$ muestra las unidades de este producto que se generan mensualmente en la planta $i$ y que son transportadas a la bodega $j$, para quedar almacenadas allí durante el mes en que fueron producidas.\n",
    "\n",
    "Además, la matriz $C$ detalla, para el primer semestre del presente año, el costo unitario (en dólares) de almacenamiento del producto durante el mes $j$ en la bodega $i$.\n",
    "\n",
    "<br>\n",
    "\n",
    "\\begin{split}\n",
    "T = \\begin{pmatrix}\n",
    " 500 &  400  &  300 & 200 & 100 \\\\\n",
    " 600 &  500  &  400 & 300 & 200 \\\\\n",
    " 700 &  600  &  500 & 400 & 300 \\\\\n",
    " 800 &  700  &  600 & 500 & 400 \\\\\n",
    "\\end{pmatrix} \\ \\ \\ \\ \\ \\ C = \\begin{pmatrix}\n",
    " 5 &  6  &  7 &  8  &  9 & 6 \\\\\n",
    " 4 &  5  &  6 &  7  &  8 & 7 \\\\\n",
    " 3 &  4  &  5 &  6  &  7 & 9 \\\\\n",
    " 2 &  3  &  4 &  5  &  6 & 6 \\\\\n",
    " 8 &  5  &  6 &  3  &  7 & 5 \\\\\n",
    "\\end{pmatrix}\n",
    "\\end{split}\n",
    "\n",
    "<br>\n",
    "\n",
    "1. Determina la matriz $G = T \\cdot C$.\n",
    "2. Interpreta los elementos $t_{14}$, $c_{53}$ y $g_{35}$.\n",
    "3. ¿Cuánto cuesta almacenar una unidad del producto en la bodega $4$ durante marzo de este año?\n",
    "4. ¿Cuánto dinero gasta la empresa por almacenar la producción mensual de la planta $2$ durante el mes de abril?\n"
   ]
  },
  {
   "cell_type": "markdown",
   "metadata": {
    "id": "xDI75W2xzvrM"
   },
   "source": [
    "# Problema 7"
   ]
  },
  {
   "cell_type": "markdown",
   "metadata": {
    "id": "lNCVWxWhz7-L"
   },
   "source": [
    "Una empresa dedicada al desarrollo de software, que cuenta con tres sucuersales, necesita renovar los siguientes implementos para su personal: laptop de alto rendimiento, monitor externo de alta resolución, teclado mecánico, mouse ergonómico y disco duro de alta capacidad. Para esto, decide cotizar con tres proveedores y así encontrar el precio más conveniente para realizar la compra. La matriz $F$, en el orden mencionado, indica la cantidad de artículos que necesita comprar para cada sucursal. La matriz $G$ indica el precio unitario (en miles de pesos) de cada producto por proveedor.\n",
    "\n",
    "<br>\n",
    "\n",
    "\\begin{split}\n",
    "F = \\begin{pmatrix}\n",
    " 7 &  6  &  15 & 17 & 18 \\\\\n",
    " 5 &  10  &  20 & 13 & 12 \\\\\n",
    " 8 &  4  &  12 & 18 & 9 \\\\\n",
    "\\end{pmatrix} \\ \\ \\ \\ \\ \\ G = \\begin{pmatrix}\n",
    " 1700 &  1750 &  1800 \\\\\n",
    "  868 &  803  &  840  \\\\\n",
    "  165 &  160  &  150  \\\\\n",
    "  70  &  73  &   65   \\\\\n",
    "  110 &  124  &  115  \\\\\n",
    "\\end{pmatrix}\n",
    "\\end{split}\n",
    "\n",
    "<br>\n",
    "\n",
    "1. Calcula utilizando *Python* la matriz $D = F \\cdot G$.\n",
    "2. Interpreta los elementos $d_{33}$ y $d_{21}$.\n",
    "3. ¿Cuál es el proveedor más conveniente para realizar todas las compras?\n",
    "4. Si escoge el proveedor más conveniente, ¿en qué sucursal deberá invertir más dinero por la renovación de los implementos?"
   ]
  },
  {
   "cell_type": "markdown",
   "metadata": {
    "id": "9NADqkF9I2jz"
   },
   "source": [
    "# Problema 8"
   ]
  },
  {
   "cell_type": "markdown",
   "metadata": {
    "id": "GkqTrVluI5IR"
   },
   "source": [
    "Sea la matriz $A$:\n",
    "\n",
    "<br>\n",
    "\n",
    "\\begin{split}\n",
    "A = \\begin{pmatrix}\n",
    " 3 &  1  &  2 \\\\\n",
    " 1 &  2  &  1 \\\\\n",
    " 4 &  1  &  3 \\\\\n",
    "\\end{pmatrix}\n",
    "\\end{split}\n",
    "\n",
    "<br>\n",
    "\n",
    "1. Calcula, utilizando *Python*, la matriz $A^{-1}$.\n",
    "2. Calcula la matriz $I = A \\cdot A^{-1}$.\n",
    "3. Calcula la matriz $I^{-1}$. Analiza este resultado, comparando con los resultados obtenidos en los ítems anteriores. ¿Puedes encontrar alguna relación para estas matrices?"
   ]
  },
  {
   "cell_type": "markdown",
   "metadata": {
    "id": "69qgazcrO2AU"
   },
   "source": [
    "# Problema 9"
   ]
  },
  {
   "cell_type": "markdown",
   "metadata": {
    "id": "Iw6_2ghWvTJ_"
   },
   "source": [
    "1. Considera que el siguiente sistema de ecuaciones:\n",
    "\n",
    "<br>\n",
    "\n",
    "\\begin{split}\n",
    "2x + y & = 7 \\\\\n",
    "3x - 2y & = 21\n",
    "\\end{split}\n",
    "\n",
    "<br>\n",
    "\n",
    "$\\hspace{1cm}$ Se puede escribir matricialmente como:\n",
    "\n",
    "<br>\n",
    "\n",
    "\\begin{split}\n",
    "\\begin{pmatrix}\n",
    " 2  &  1 \\\\\n",
    " 3 & -2 \\\\\n",
    "\\end{pmatrix} \\cdot \\begin{pmatrix}\n",
    " x \\\\\n",
    " y \\\\\n",
    "\\end{pmatrix} = \\begin{pmatrix}\n",
    " 7 \\\\\n",
    " 21 \\\\\n",
    "\\end{pmatrix}\n",
    "\\end{split}\n",
    "\n",
    "<br>\n",
    "\n",
    "* Utiliza la matriz inversa para encontrar los valores de $x$ e $y$ que permiten satisfacer ambas ecuaciones simultáneamente.\n",
    "\n",
    "<br>\n",
    "\n",
    "2. Considera que el siguiente sistema de ecuaciones:\n",
    "\n",
    "<br>\n",
    "\n",
    "\\begin{split}\n",
    "h + m & = 60 \\\\\n",
    "0,16h + 0,2m & = 11\n",
    "\\end{split}\n",
    "\n",
    "<br>\n",
    "\n",
    "$\\hspace{1cm}$ Se puede escribir matricialmente como:\n",
    "\n",
    "<br>\n",
    "\n",
    "\\begin{split}\n",
    "\\begin{pmatrix}\n",
    " 1  &  1 \\\\\n",
    " 0,16 & 0,2 \\\\\n",
    "\\end{pmatrix} \\cdot \\begin{pmatrix}\n",
    " h \\\\\n",
    " m \\\\\n",
    "\\end{pmatrix} = \\begin{pmatrix}\n",
    " 60 \\\\\n",
    " 11 \\\\\n",
    "\\end{pmatrix}\n",
    "\\end{split}\n",
    "\n",
    "<br>\n",
    "\n",
    "* Utiliza la matriz inversa para encontrar los valores de $h$ y $m$ que permiten satisfacer el sistema de ecuaciones."
   ]
  },
  {
   "cell_type": "markdown",
   "metadata": {
    "id": "2t0kddN6afwB"
   },
   "source": [
    "# Problema 10"
   ]
  },
  {
   "cell_type": "markdown",
   "metadata": {
    "id": "UBNev_Aa3JFo"
   },
   "source": [
    "Considera los siguientes sistemas de ecuaciones:\n",
    "\n",
    "<br>\n",
    "\n",
    "**a)**\n",
    "\\begin{split}\n",
    "2m + 4p & = 2900 \\\\\n",
    "3m + 3p & = 3150\n",
    "\\end{split}\n",
    "<br>\n",
    "<br>\n",
    "**b)**\n",
    "\\begin{split}\n",
    "n + v & = 160 \\\\\n",
    "50n + 300v & = 23000\n",
    "\\end{split}\n",
    "\n",
    "<br>\n",
    "\n",
    "1. Escribe ambos sistemas de ecuaciones de forma matricial.\n",
    "1. Utiliza la matriz inversa para calcular las soluciones de ambos sistemas de ecuaciones.\n",
    "\n",
    "\n"
   ]
  },
  {
   "cell_type": "markdown",
   "metadata": {
    "id": "17CU2FNFdMUi"
   },
   "source": [
    "# Problema 11"
   ]
  },
  {
   "cell_type": "markdown",
   "metadata": {
    "id": "oCE7O-GwUfFp"
   },
   "source": [
    "Una persona tiene $\\$8000$ en monedas de $\\$10$ y de $50$. El sistema de ecuaciones que representa la situación es el siguiente:\n",
    "\n",
    "<br>\n",
    "\n",
    "\\begin{split}\n",
    "x + y & = 200 \\\\\n",
    "10x + 50y & = 8000\n",
    "\\end{split}\n",
    "\n",
    "<br>\n",
    "\n",
    "1. ¿Qué representa cada variable?\n",
    "2. Explica qué representa cada una de las ecuaciones del sistema.\n",
    "3. ¿Cuántas monedas de $\\$10$ y de $\\$50$ tiene?"
   ]
  },
  {
   "cell_type": "markdown",
   "metadata": {
    "id": "zO3T2HsmAag8"
   },
   "source": [
    "# Problema 12"
   ]
  },
  {
   "cell_type": "markdown",
   "metadata": {
    "id": "0dz7BgV4ayBZ"
   },
   "source": [
    "En una granja hay $132$ animales entre patos y vacas. En total hay $402$ patas. El sistema que modela la situación planteada es:\n",
    "\n",
    "<br>\n",
    "\n",
    "\\begin{split}\n",
    "p + v & = 132 \\\\\n",
    "2p + 4v & = 402\n",
    "\\end{split}\n",
    "\n",
    "<br>\n",
    "\n",
    "1. ¿Qué representan las incógnitas del sistema?\n",
    "2. ¿Cuántos patos hay?"
   ]
  },
  {
   "cell_type": "markdown",
   "metadata": {
    "id": "u4IT_mcqAc-h"
   },
   "source": [
    "# Problema 13"
   ]
  },
  {
   "cell_type": "markdown",
   "metadata": {
    "id": "OfPwXJUHs6hY"
   },
   "source": [
    "Luis compró $5$ cables USB y $6$ pendrives, en total canceló $\\$82.890$. Pablo compró a los mismos precios $3$ cables USB y $7$ pendrives, y canceló $\\$59.900$.\n",
    "\n",
    "El sistema que modela el problema es:\n",
    "\n",
    "<br>\n",
    "\n",
    "\\begin{split}\n",
    "5x + 6y &= 82890 \\\\\n",
    "3x +  7y &= 59900\n",
    "\\end{split}\n",
    "\n",
    "<br>\n",
    "\n",
    "\n",
    "1. ¿Qué representa cada incógnita en el contexto del problema?\n",
    "2. Determina cuánto pagaron por cada cable USB."
   ]
  }
 ],
 "metadata": {
  "colab": {
   "provenance": [],
   "toc_visible": true
  },
  "kernelspec": {
   "display_name": "Python 3",
   "name": "python3"
  },
  "language_info": {
   "codemirror_mode": {
    "name": "ipython",
    "version": 3
   },
   "file_extension": ".py",
   "mimetype": "text/x-python",
   "name": "python",
   "nbconvert_exporter": "python",
   "pygments_lexer": "ipython3",
   "version": "3.12.2"
  }
 },
 "nbformat": 4,
 "nbformat_minor": 0
}
